{
 "cells": [
  {
   "cell_type": "code",
   "execution_count": 20,
   "metadata": {},
   "outputs": [
    {
     "name": "stdout",
     "output_type": "stream",
     "text": [
      "Username:  ygorbalves\n",
      "Number of Posts Uploads:  7\n",
      "ygorbalves is having 1175 followers.\n",
      "ygorbalves is following 1415 people\n",
      "Bio:  🇧🇷BR\n",
      "💻 CEO & Founder @yaitecsolutions \n",
      "📈 IA | Empreendedorismo\n",
      "Stored ID 596577227 for profile ygorbalves.\n",
      "ygorbalves/2024-04-14_18-02-12_UTC_profile_pic.jpg \n"
     ]
    }
   ],
   "source": [
    "import instaloader\n",
    "\n",
    "ig=instaloader.Instaloader()\n",
    "\n",
    "usrname=input(\"Enter Username: \")\n",
    "\n",
    "profile=instaloader.Profile.from_username(ig.context, usrname)\n",
    "\n",
    "print(\"Username: \", profile.username)\n",
    "print(\"Number of Posts Uploads: \", profile.mediacount)\n",
    "print(profile.username+\" is having \" +  str(profile.followers)+' followers.')\n",
    "print(profile.username+\" is following \" + str(profile.followees)+' people')\n",
    "print(\"Bio: \", profile.biography)\n",
    "instaloader.Instaloader().download_profile(usrname,profile_pic_only=True)\n"
   ]
  },
  {
   "cell_type": "code",
   "execution_count": 22,
   "metadata": {},
   "outputs": [
    {
     "name": "stdout",
     "output_type": "stream",
     "text": [
      "Latest profile picture path: /Users/ygoralves/projects/and-content-creator/ygorbalves/2024-04-14_18-02-12_UTC_profile_pic.jpg\n"
     ]
    }
   ],
   "source": [
    "import os\n",
    "\n",
    "def get_latest_profile_pic(username):\n",
    "    user_dir = os.path.join(os.getcwd(), username)\n",
    "    if not os.path.exists(user_dir):\n",
    "        return None\n",
    "    profile_pics = [f for f in os.listdir(user_dir) if f.endswith(\"_profile_pic.jpg\")]\n",
    "    return os.path.join(user_dir, max(profile_pics, key=lambda f: os.path.getmtime(os.path.join(user_dir, f)))) if profile_pics else None\n",
    "\n",
    "username = \"ygorbalves\"\n",
    "latest_pic = get_latest_profile_pic(username)"
   ]
  },
  {
   "cell_type": "code",
   "execution_count": 26,
   "metadata": {},
   "outputs": [
    {
     "data": {
      "text/plain": [
       "['lillian_ruff', 'lillian_ruff', 'lillian_ruff']"
      ]
     },
     "execution_count": 26,
     "metadata": {},
     "output_type": "execute_result"
    }
   ],
   "source": [
    "def extract_username(input_str):\n",
    "    return input_str.rstrip('/').split('/')[-1].lstrip('@')\n",
    "\n",
    "social_media_list = [\"https://www.instagram.com/lillian_ruff/\", \"https://www.instagram.com/lillian_ruff\", \"lillian_ruff\"]\n",
    "usernames = [extract_username(item) for item in social_media_list]\n",
    "# This will always return 'lillian_ruff' for each item in the list\n",
    "usernames\n"
   ]
  },
  {
   "cell_type": "code",
   "execution_count": 23,
   "metadata": {},
   "outputs": [
    {
     "name": "stdout",
     "output_type": "stream",
     "text": [
      "{'id': 'chatcmpl-9y8SNJWR7l6EFBycUqwwiuebH4lAk', 'object': 'chat.completion', 'created': 1724119215, 'model': 'gpt-4o-mini-2024-07-18', 'choices': [{'index': 0, 'message': {'role': 'assistant', 'content': 'The image shows a person sitting by the water at night, with the Eiffel Tower illuminated in the background. The scene appears to be in a city setting, likely Paris, given the iconic landmark. The person is wearing a white shirt and is looking towards the camera.', 'refusal': None}, 'logprobs': None, 'finish_reason': 'stop'}], 'usage': {'prompt_tokens': 8512, 'completion_tokens': 53, 'total_tokens': 8565}, 'system_fingerprint': 'fp_507c9469a1'}\n"
     ]
    }
   ],
   "source": [
    "import os\n",
    "from dotenv import load_dotenv\n",
    "import base64\n",
    "import requests\n",
    "\n",
    "load_dotenv()\n",
    "# # Function to extract username from Instagram URL or handle\n",
    "# social_media = \"https://www.instagram.com/lillian_ruff/\"\n",
    "# input_str = social_media.strip()\n",
    "# username = input_str.split(\"/\")[-1] if input_str.endswith(\"/\") else input_str.split(\"/\")[-1] # Remove '@' if present\n",
    "# # OpenAI API Key\n",
    "# api_key = os.getenv(\"OPENAI_API_KEY\")\n",
    "\n",
    "# # Function to encode the image\n",
    "def encode_image(image_path):\n",
    "    with open(image_path, \"rb\") as image_file:\n",
    "        return base64.b64encode(image_file.read()).decode('utf-8')\n",
    "\n",
    "# ig.download_profile(username, profile_pic_only=True)\n",
    "\n",
    "\n",
    "# Getting the base64 string\n",
    "base64_image = encode_image(latest_pic)\n",
    "\n",
    "headers = {\n",
    "\"Content-Type\": \"application/json\",\n",
    "\"Authorization\": f\"Bearer {api_key}\"\n",
    "}\n",
    "\n",
    "payload = {\n",
    "\"model\": \"gpt-4o-mini\",\n",
    "\"messages\": [\n",
    "    {\n",
    "    \"role\": \"user\",\n",
    "    \"content\": [\n",
    "        {\n",
    "        \"type\": \"text\",\n",
    "        \"text\": \"What's in this image?\"\n",
    "        },\n",
    "        {\n",
    "        \"type\": \"image_url\",\n",
    "        \"image_url\": {\n",
    "            \"url\": f\"data:image/jpeg;base64,{base64_image}\"\n",
    "        }\n",
    "        }\n",
    "    ]\n",
    "    }\n",
    "],\n",
    "\"max_tokens\": 300\n",
    "}\n",
    "\n",
    "response = requests.post(\"https://api.openai.com/v1/chat/completions\", headers=headers, json=payload)\n",
    "\n",
    "print(response.json())"
   ]
  },
  {
   "cell_type": "code",
   "execution_count": null,
   "metadata": {},
   "outputs": [],
   "source": [
    "# Extract the content from the response\n",
    "profile_description = response.json()['choices'][0]['message']['content']\n",
    "\n",
    "print(\"Profile picture description:\", profile_description)\n"
   ]
  }
 ],
 "metadata": {
  "kernelspec": {
   "display_name": "venv",
   "language": "python",
   "name": "python3"
  },
  "language_info": {
   "codemirror_mode": {
    "name": "ipython",
    "version": 3
   },
   "file_extension": ".py",
   "mimetype": "text/x-python",
   "name": "python",
   "nbconvert_exporter": "python",
   "pygments_lexer": "ipython3",
   "version": "3.12.2"
  }
 },
 "nbformat": 4,
 "nbformat_minor": 2
}
